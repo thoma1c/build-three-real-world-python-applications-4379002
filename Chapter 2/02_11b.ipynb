{
 "cells": [
  {
   "cell_type": "markdown",
   "metadata": {},
   "source": [
    "# Exploring Alpha Vantage API"
   ]
  },
  {
   "cell_type": "markdown",
   "metadata": {},
   "source": [
    "### Imports- **Run First**"
   ]
  },
  {
   "cell_type": "code",
   "execution_count": 2,
   "metadata": {
    "collapsed": true,
    "jupyter": {
     "outputs_hidden": true
    },
    "tags": []
   },
   "outputs": [],
   "source": [
    "#open file with your API key\n",
    "with open('here_be_monsters.txt') as file:\n",
    "  quack = file.read().strip()"
   ]
  },
  {
   "cell_type": "code",
   "execution_count": 3,
   "metadata": {
    "collapsed": true,
    "jupyter": {
     "outputs_hidden": true
    },
    "tags": []
   },
   "outputs": [],
   "source": [
    "#import libraries\n",
    "from alpha_vantage.timeseries import TimeSeries\n",
    "\n",
    "import requests\n",
    "from bs4 import BeautifulSoup\n",
    "\n",
    "import pandas as pd\n",
    "import io"
   ]
  },
  {
   "cell_type": "markdown",
   "metadata": {},
   "source": [
    "### How to use Alpha Vantage functions 3"
   ]
  },
  {
   "cell_type": "markdown",
   "metadata": {
    "tags": []
   },
   "source": [
    "#### Get News & Sentiments"
   ]
  },
  {
   "cell_type": "code",
   "execution_count": 4,
   "metadata": {
    "tags": []
   },
   "outputs": [
    {
     "name": "stdout",
     "output_type": "stream",
     "text": [
      "{\n",
      "    \"Information\": \"Thank you for using Alpha Vantage! Our standard API rate limit is 25 requests per day. Please subscribe to any of the premium plans at https://www.alphavantage.co/premium/ to instantly remove all daily rate limits.\"\n",
      "}\n"
     ]
    },
    {
     "name": "stderr",
     "output_type": "stream",
     "text": [
      "/tmp/ipykernel_28493/498522248.py:4: MarkupResemblesLocatorWarning: The input looks more like a filename than markup. You may want to open this file and pass the filehandle into Beautiful Soup.\n",
      "  news = BeautifulSoup(r.content)\n"
     ]
    }
   ],
   "source": [
    "#Get news and sentiments for Apple\n",
    "url = 'https://www.alphavantage.co/query?function=NEWS_SENTIMENT&tickers=AAPL&apikey=' + str(quack)\n",
    "r = requests.get(url)\n",
    "news = BeautifulSoup(r.content)\n",
    "\n",
    "print(news)"
   ]
  },
  {
   "cell_type": "markdown",
   "metadata": {
    "tags": []
   },
   "source": [
    "#### Technical Indicator Functions"
   ]
  },
  {
   "cell_type": "code",
   "execution_count": null,
   "metadata": {
    "tags": []
   },
   "outputs": [],
   "source": [
    "#Get simple moving average for Apple stock\n",
    "url = 'https://www.alphavantage.co/query?function=SMA&symbol=AAPL&interval=weekly&time_period=10&series_type=open&apikey=' + str(quack)\n",
    "r = requests.get(url)\n",
    "ti = BeautifulSoup(r.content)\n",
    "\n",
    "print(ti)"
   ]
  },
  {
   "cell_type": "code",
   "execution_count": null,
   "metadata": {
    "tags": []
   },
   "outputs": [],
   "source": [
    "#Get weighted moving average for Apple stock\n",
    "url = 'https://www.alphavantage.co/query?function=WMA&symbol=AAPL&interval=weekly&time_period=10&series_type=open&apikey=' + str(quack)\n",
    "r = requests.get(url)\n",
    "ti = BeautifulSoup(r.content)\n",
    "\n",
    "print(ti)"
   ]
  },
  {
   "cell_type": "code",
   "execution_count": null,
   "metadata": {
    "tags": []
   },
   "outputs": [],
   "source": [
    "#Get rate of change ratio values for Apple stock\n",
    "url = 'https://www.alphavantage.co/query?function=ROCR&symbol=AAPL&interval=daily&time_period=10&series_type=close&apikey=' + str(quack)\n",
    "r = requests.get(url)\n",
    "ti = BeautifulSoup(r.content)\n",
    "\n",
    "print(ti)"
   ]
  },
  {
   "cell_type": "code",
   "execution_count": 1,
   "metadata": {
    "tags": []
   },
   "outputs": [
    {
     "ename": "NameError",
     "evalue": "name 'quack' is not defined",
     "output_type": "error",
     "traceback": [
      "\u001b[0;31m---------------------------------------------------------------------------\u001b[0m",
      "\u001b[0;31mNameError\u001b[0m                                 Traceback (most recent call last)",
      "\u001b[1;32m/workspaces/build-three-real-world-python-applications-4379002/Chapter 2/02_11b.ipynb Cell 12\u001b[0m line \u001b[0;36m2\n\u001b[1;32m      <a href='vscode-notebook-cell://codespaces%2Bverbose-goldfish-4wqw75wp5xwhq5rx/workspaces/build-three-real-world-python-applications-4379002/Chapter%202/02_11b.ipynb#X14sdnNjb2RlLXJlbW90ZQ%3D%3D?line=0'>1</a>\u001b[0m \u001b[39m#Get Bollinger bands values for Apple stock\u001b[39;00m\n\u001b[0;32m----> <a href='vscode-notebook-cell://codespaces%2Bverbose-goldfish-4wqw75wp5xwhq5rx/workspaces/build-three-real-world-python-applications-4379002/Chapter%202/02_11b.ipynb#X14sdnNjb2RlLXJlbW90ZQ%3D%3D?line=1'>2</a>\u001b[0m url \u001b[39m=\u001b[39m \u001b[39m'\u001b[39m\u001b[39mhttps://www.alphavantage.co/query?function=BBANDS&symbol=AAPL&interval=weekly&time_period=5&series_type=close&nbdevup=3&nbdevdn=3&apikey=\u001b[39m\u001b[39m'\u001b[39m \u001b[39m+\u001b[39m \u001b[39mstr\u001b[39m(quack)\n\u001b[1;32m      <a href='vscode-notebook-cell://codespaces%2Bverbose-goldfish-4wqw75wp5xwhq5rx/workspaces/build-three-real-world-python-applications-4379002/Chapter%202/02_11b.ipynb#X14sdnNjb2RlLXJlbW90ZQ%3D%3D?line=2'>3</a>\u001b[0m r \u001b[39m=\u001b[39m requests\u001b[39m.\u001b[39mget(url)\n\u001b[1;32m      <a href='vscode-notebook-cell://codespaces%2Bverbose-goldfish-4wqw75wp5xwhq5rx/workspaces/build-three-real-world-python-applications-4379002/Chapter%202/02_11b.ipynb#X14sdnNjb2RlLXJlbW90ZQ%3D%3D?line=3'>4</a>\u001b[0m ti \u001b[39m=\u001b[39m BeautifulSoup(r\u001b[39m.\u001b[39mcontent)\n",
      "\u001b[0;31mNameError\u001b[0m: name 'quack' is not defined"
     ]
    }
   ],
   "source": [
    "#Get Bollinger bands values for Apple stock\n",
    "url = 'https://www.alphavantage.co/query?function=BBANDS&symbol=AAPL&interval=weekly&time_period=5&series_type=close&nbdevup=3&nbdevdn=3&apikey=' + str(quack)\n",
    "r = requests.get(url)\n",
    "ti = BeautifulSoup(r.content)\n",
    "\n",
    "print(ti)"
   ]
  }
 ],
 "metadata": {
  "kernelspec": {
   "display_name": "Python 3",
   "language": "python",
   "name": "python3"
  },
  "language_info": {
   "codemirror_mode": {
    "name": "ipython",
    "version": 3
   },
   "file_extension": ".py",
   "mimetype": "text/x-python",
   "name": "python",
   "nbconvert_exporter": "python",
   "pygments_lexer": "ipython3",
   "version": "3.10.8"
  }
 },
 "nbformat": 4,
 "nbformat_minor": 5
}
